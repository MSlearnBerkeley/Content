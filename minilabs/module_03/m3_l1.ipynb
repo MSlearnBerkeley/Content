{
 "cells": [
  {
   "cell_type": "markdown",
   "metadata": {},
   "source": [
    "# Create and Manipulate Tables Using the `datascience` Library\n",
    "## Mini-Lab 1: Row Sorting, Row Selection, Applying Functions to Tables"
   ]
  },
  {
   "cell_type": "markdown",
   "metadata": {},
   "source": [
    "Welcome to your next mini-lab! Go ahead an run the following cell to get started. You can do that by clicking on the cell and then clickcing `Run` on the top bar. You can also just press `Shift` + `Enter` to run the cell."
   ]
  },
  {
   "cell_type": "code",
   "execution_count": null,
   "metadata": {},
   "outputs": [],
   "source": [
    "from datascience import *\n",
    "import otter\n",
    "\n",
    "grader = otter.Notebook(\"m3_l1_tests\")"
   ]
  },
  {
   "cell_type": "markdown",
   "metadata": {},
   "source": [
    "Now we'll finally be working with tables! The following cell creates a table of fruits. Each row is a student whereas each row tells us how many of which fruit they have. Don't worry about _how_ the table is created, just worry about the contents of the table itself, though table creation isn't at all that bad!"
   ]
  },
  {
   "cell_type": "code",
   "execution_count": null,
   "metadata": {},
   "outputs": [],
   "source": [
    "fruits = Table().with_columns(\n",
    "                                \"Names\", make_array(\"Tien\", \"Lucy\", \"Ahmed\"),\n",
    "                                \"Apples\", make_array(5, 2, 3),\n",
    "                                \"Oranges\", make_array(2, 3, 1),\n",
    "                                \"Dragonfruits\", make_array(3, 7, 9)\n",
    "                             )\n",
    "fruits"
   ]
  },
  {
   "cell_type": "markdown",
   "metadata": {},
   "source": [
    "Now that we have the `fruits` table, we can use row operations change around the format of our table. Go ahead and sort the `fruits` table in _descending_ order by the number of dragonfruits."
   ]
  },
  {
   "cell_type": "code",
   "execution_count": null,
   "metadata": {},
   "outputs": [],
   "source": [
    "dragonfruits = ...\n",
    "dragonfruits"
   ]
  },
  {
   "cell_type": "code",
   "execution_count": null,
   "metadata": {},
   "outputs": [],
   "source": [
    "grader.check(\"q1\")"
   ]
  },
  {
   "cell_type": "markdown",
   "metadata": {},
   "source": [
    "Now let's say that we want a table that contains only the students that have at least 5 dragonfruits. With your newly created `dragonfruits` table, modify the table so that it contains what we want."
   ]
  },
  {
   "cell_type": "code",
   "execution_count": null,
   "metadata": {},
   "outputs": [],
   "source": [
    "many_dragonfruits = ...\n",
    "many_dragonfruits"
   ]
  },
  {
   "cell_type": "code",
   "execution_count": null,
   "metadata": {},
   "outputs": [],
   "source": [
    "grader.check(\"q2\")"
   ]
  },
  {
   "cell_type": "markdown",
   "metadata": {},
   "source": [
    "Finally let's say that we want to convert the number of dragonfruits into the _price_ of the dragonfruits that these students own. In the function `dragonfruit_price`, replace `...` with code that will take the `number` of dragonfruits and `return` the corresponding price. One dragonfruit is worth one dollar (1) and fifty-three (53) cents."
   ]
  },
  {
   "cell_type": "code",
   "execution_count": null,
   "metadata": {},
   "outputs": [],
   "source": [
    "def dragonfruit_price(number):\n",
    "    return ...\n",
    "\n",
    "dragonfruit_price(1)"
   ]
  },
  {
   "cell_type": "code",
   "execution_count": null,
   "metadata": {},
   "outputs": [],
   "source": [
    "grader.check(\"q3\")"
   ]
  },
  {
   "cell_type": "markdown",
   "metadata": {},
   "source": [
    "Finally let's apply this function to our `many_dragonfruits` table. Create a new column called `Dragonfruit Price` which contains the total price of the dragonfruits that these students own. For example, if a student has 3 dragonfruits, then the dragonfruit price should be 3 * 1.53 = 4.59.\n",
    "\n",
    "_NOTE:_ Feel free to add more lines if you deem it necessary! Not everything needs a one line solution."
   ]
  },
  {
   "cell_type": "code",
   "execution_count": null,
   "metadata": {},
   "outputs": [],
   "source": [
    "prices = ...\n",
    "prices"
   ]
  },
  {
   "cell_type": "code",
   "execution_count": null,
   "metadata": {},
   "outputs": [],
   "source": [
    "grader.check(\"q4\")"
   ]
  },
  {
   "cell_type": "markdown",
   "metadata": {},
   "source": [
    "Congratulations on finishing! Run the next cell to make sure that you passed all of the test cases."
   ]
  },
  {
   "cell_type": "code",
   "execution_count": null,
   "metadata": {},
   "outputs": [],
   "source": [
    "grader.check_all()"
   ]
  }
 ],
 "metadata": {
  "kernelspec": {
   "display_name": "Python 3",
   "language": "python",
   "name": "python3"
  },
  "language_info": {
   "codemirror_mode": {
    "name": "ipython",
    "version": 3
   },
   "file_extension": ".py",
   "mimetype": "text/x-python",
   "name": "python",
   "nbconvert_exporter": "python",
   "pygments_lexer": "ipython3",
   "version": "3.7.4"
  }
 },
 "nbformat": 4,
 "nbformat_minor": 2
}
