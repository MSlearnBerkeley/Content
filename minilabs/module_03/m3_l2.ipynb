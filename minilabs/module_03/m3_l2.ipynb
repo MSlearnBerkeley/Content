{
 "cells": [
  {
   "cell_type": "markdown",
   "metadata": {},
   "source": [
    "# Create and Manipulate Tables Using the `datascience` Library\n",
    "## Mini-Lab 2: Joining Tables, Grouping Tables, and Pivot Tables"
   ]
  },
  {
   "cell_type": "markdown",
   "metadata": {},
   "source": [
    "Welcome to your next mini-lab! Go ahead an run the following cell to get started. You can do that by clicking on the cell and then clickcing `Run` on the top bar. You can also just press `Shift` + `Enter` to run the cell."
   ]
  },
  {
   "cell_type": "code",
   "execution_count": 55,
   "metadata": {},
   "outputs": [],
   "source": [
    "from datascience import *\n",
    "import numpy as np\n",
    "import otter\n",
    "\n",
    "grader = otter.Notebook(\"m3_l2_tests\")"
   ]
  },
  {
   "cell_type": "markdown",
   "metadata": {},
   "source": [
    "Now let's try something more interesting with tables. If you recall, this is the table from the previous mini-lab. Go ahead and run the next cell to recreate it."
   ]
  },
  {
   "cell_type": "code",
   "execution_count": 3,
   "metadata": {},
   "outputs": [
    {
     "data": {
      "text/html": [
       "<table border=\"1\" class=\"dataframe\">\n",
       "    <thead>\n",
       "        <tr>\n",
       "            <th>Names</th> <th>Apples</th> <th>Oranges</th> <th>Dragonfruits</th>\n",
       "        </tr>\n",
       "    </thead>\n",
       "    <tbody>\n",
       "        <tr>\n",
       "            <td>Tien </td> <td>5     </td> <td>2      </td> <td>3           </td>\n",
       "        </tr>\n",
       "        <tr>\n",
       "            <td>Lucy </td> <td>2     </td> <td>3      </td> <td>7           </td>\n",
       "        </tr>\n",
       "        <tr>\n",
       "            <td>Ahmed</td> <td>3     </td> <td>1      </td> <td>9           </td>\n",
       "        </tr>\n",
       "    </tbody>\n",
       "</table>"
      ],
      "text/plain": [
       "Names | Apples | Oranges | Dragonfruits\n",
       "Tien  | 5      | 2       | 3\n",
       "Lucy  | 2      | 3       | 7\n",
       "Ahmed | 3      | 1       | 9"
      ]
     },
     "execution_count": 3,
     "metadata": {},
     "output_type": "execute_result"
    }
   ],
   "source": [
    "fruits = Table().with_columns(\n",
    "                                \"Names\", make_array(\"Tien\", \"Lucy\", \"Ahmed\"),\n",
    "                                \"Apples\", make_array(5, 2, 3),\n",
    "                                \"Oranges\", make_array(2, 3, 1),\n",
    "                                \"Dragonfruits\", make_array(3, 7, 9)\n",
    "                             )\n",
    "fruits"
   ]
  },
  {
   "cell_type": "markdown",
   "metadata": {},
   "source": [
    "Let's now say that we have another table that contains more information. Let's call this table `more_fruits` and contains information like our trio's favorite fruits, least favorite fruits, and (you guessed it) more fruit values! Run the next cell to import this data."
   ]
  },
  {
   "cell_type": "code",
   "execution_count": 4,
   "metadata": {},
   "outputs": [
    {
     "data": {
      "text/html": [
       "<table border=\"1\" class=\"dataframe\">\n",
       "    <thead>\n",
       "        <tr>\n",
       "            <th>Names</th> <th>Lychee</th> <th>Rambutan</th> <th>Kiwi</th> <th>Favorite Fruit</th> <th>Least Favorite Fruit</th>\n",
       "        </tr>\n",
       "    </thead>\n",
       "    <tbody>\n",
       "        <tr>\n",
       "            <td>Tien </td> <td>3     </td> <td>9       </td> <td>4   </td> <td>Apple         </td> <td>Orange              </td>\n",
       "        </tr>\n",
       "        <tr>\n",
       "            <td>Lucy </td> <td>14    </td> <td>0       </td> <td>10  </td> <td>Orange        </td> <td>Kiwi                </td>\n",
       "        </tr>\n",
       "        <tr>\n",
       "            <td>Ahmed</td> <td>12    </td> <td>1       </td> <td>7   </td> <td>Lychee        </td> <td>Kiwi                </td>\n",
       "        </tr>\n",
       "    </tbody>\n",
       "</table>"
      ],
      "text/plain": [
       "Names | Lychee | Rambutan | Kiwi | Favorite Fruit | Least Favorite Fruit\n",
       "Tien  | 3      | 9        | 4    | Apple          | Orange\n",
       "Lucy  | 14     | 0        | 10   | Orange         | Kiwi\n",
       "Ahmed | 12     | 1        | 7    | Lychee         | Kiwi"
      ]
     },
     "execution_count": 4,
     "metadata": {},
     "output_type": "execute_result"
    }
   ],
   "source": [
    "more_fruits = Table().with_columns(\n",
    "                                \"Names\", make_array(\"Tien\", \"Lucy\", \"Ahmed\"),\n",
    "                                \"Lychee\", make_array(3, 14, 12),\n",
    "                                \"Rambutan\", make_array(9, 0, 1),\n",
    "                                \"Kiwi\", make_array(4, 10, 7),\n",
    "                                \"Favorite Fruit\", make_array(\"Apple\", \"Orange\", \"Lychee\"),\n",
    "                                \"Least Favorite Fruit\", make_array(\"Orange\", \"Kiwi\", \"Kiwi\")\n",
    "                             )\n",
    "more_fruits"
   ]
  },
  {
   "cell_type": "markdown",
   "metadata": {},
   "source": [
    "It's annoying to deal with two separate tables so data scientists often join multiple tables together to consolidate related data. For your next task, go ahead `join` these two tables together!"
   ]
  },
  {
   "cell_type": "code",
   "execution_count": 8,
   "metadata": {},
   "outputs": [
    {
     "data": {
      "text/html": [
       "<table border=\"1\" class=\"dataframe\">\n",
       "    <thead>\n",
       "        <tr>\n",
       "            <th>Names</th> <th>Apples</th> <th>Oranges</th> <th>Dragonfruits</th> <th>Lychee</th> <th>Rambutan</th> <th>Kiwi</th> <th>Favorite Fruit</th> <th>Least Favorite Fruit</th>\n",
       "        </tr>\n",
       "    </thead>\n",
       "    <tbody>\n",
       "        <tr>\n",
       "            <td>Ahmed</td> <td>3     </td> <td>1      </td> <td>9           </td> <td>12    </td> <td>1       </td> <td>7   </td> <td>Lychee        </td> <td>Kiwi                </td>\n",
       "        </tr>\n",
       "        <tr>\n",
       "            <td>Lucy </td> <td>2     </td> <td>3      </td> <td>7           </td> <td>14    </td> <td>0       </td> <td>10  </td> <td>Orange        </td> <td>Kiwi                </td>\n",
       "        </tr>\n",
       "        <tr>\n",
       "            <td>Tien </td> <td>5     </td> <td>2      </td> <td>3           </td> <td>3     </td> <td>9       </td> <td>4   </td> <td>Apple         </td> <td>Orange              </td>\n",
       "        </tr>\n",
       "    </tbody>\n",
       "</table>"
      ],
      "text/plain": [
       "Names | Apples | Oranges | Dragonfruits | Lychee | Rambutan | Kiwi | Favorite Fruit | Least Favorite Fruit\n",
       "Ahmed | 3      | 1       | 9            | 12     | 1        | 7    | Lychee         | Kiwi\n",
       "Lucy  | 2      | 3       | 7            | 14     | 0        | 10   | Orange         | Kiwi\n",
       "Tien  | 5      | 2       | 3            | 3      | 9        | 4    | Apple          | Orange"
      ]
     },
     "execution_count": 8,
     "metadata": {},
     "output_type": "execute_result"
    }
   ],
   "source": [
    "all_fruits = fruits.join(\"Names\", more_fruits)\n",
    "all_fruits"
   ]
  },
  {
   "cell_type": "code",
   "execution_count": null,
   "metadata": {},
   "outputs": [],
   "source": [
    "grader.check(\"q1\")"
   ]
  },
  {
   "cell_type": "markdown",
   "metadata": {},
   "source": [
    "Sadly the `all_fruits` table is too simplistic to play around with more advanced functions so we'll be importing our first ever outside dataset! The following dataset is taken from the [University of California, Irvine](https://archive.ics.uci.edu/ml/datasets/Forest+Fires) includes data about forest fires in Portugal. Run the following cell to create this table."
   ]
  },
  {
   "cell_type": "code",
   "execution_count": 76,
   "metadata": {},
   "outputs": [
    {
     "data": {
      "text/html": [
       "<table border=\"1\" class=\"dataframe\">\n",
       "    <thead>\n",
       "        <tr>\n",
       "            <th>month</th> <th>temp</th> <th>wind</th> <th>rain</th> <th>area</th>\n",
       "        </tr>\n",
       "    </thead>\n",
       "    <tbody>\n",
       "        <tr>\n",
       "            <td>mar  </td> <td>8.2 </td> <td>6.7 </td> <td>0   </td> <td>0   </td>\n",
       "        </tr>\n",
       "        <tr>\n",
       "            <td>oct  </td> <td>18  </td> <td>0.9 </td> <td>0   </td> <td>0   </td>\n",
       "        </tr>\n",
       "        <tr>\n",
       "            <td>oct  </td> <td>14.6</td> <td>1.3 </td> <td>0   </td> <td>0   </td>\n",
       "        </tr>\n",
       "    </tbody>\n",
       "</table>\n",
       "<p>... (514 rows omitted)</p>"
      ],
      "text/plain": [
       "<IPython.core.display.HTML object>"
      ]
     },
     "metadata": {},
     "output_type": "display_data"
    }
   ],
   "source": [
    "forestfires = Table.read_table(\"../datasets/forestfires.csv\")\n",
    "forestfires = forestfires.select(\"month\", \"temp\", \"wind\", \"rain\", \"area\")\n",
    "\n",
    "forestfires.show(3)"
   ]
  },
  {
   "cell_type": "markdown",
   "metadata": {},
   "source": [
    "Now that we have some interesting data, let's find some interesting metrics. Go ahead and `group` the data by `month` and aggregate by the average. This will allow us to pull some statistics about these forest fires over the course of the year.\n",
    "\n",
    "*NOTE*: You can use the `np.average` function to find the average value of an array."
   ]
  },
  {
   "cell_type": "code",
   "execution_count": 77,
   "metadata": {},
   "outputs": [
    {
     "data": {
      "text/html": [
       "<table border=\"1\" class=\"dataframe\">\n",
       "    <thead>\n",
       "        <tr>\n",
       "            <th>month</th> <th>temp average</th> <th>wind average</th> <th>rain average</th> <th>area average</th>\n",
       "        </tr>\n",
       "    </thead>\n",
       "    <tbody>\n",
       "        <tr>\n",
       "            <td>apr  </td> <td>12.0444     </td> <td>4.66667     </td> <td>0           </td> <td>8.89111     </td>\n",
       "        </tr>\n",
       "        <tr>\n",
       "            <td>aug  </td> <td>21.6315     </td> <td>4.08641     </td> <td>0.0586957   </td> <td>12.4891     </td>\n",
       "        </tr>\n",
       "        <tr>\n",
       "            <td>dec  </td> <td>4.52222     </td> <td>7.64444     </td> <td>0           </td> <td>13.33       </td>\n",
       "        </tr>\n",
       "        <tr>\n",
       "            <td>feb  </td> <td>9.635       </td> <td>3.755       </td> <td>0           </td> <td>6.275       </td>\n",
       "        </tr>\n",
       "        <tr>\n",
       "            <td>jan  </td> <td>5.25        </td> <td>2           </td> <td>0           </td> <td>0           </td>\n",
       "        </tr>\n",
       "        <tr>\n",
       "            <td>jul  </td> <td>22.1094     </td> <td>3.73438     </td> <td>0.00625     </td> <td>14.3697     </td>\n",
       "        </tr>\n",
       "        <tr>\n",
       "            <td>jun  </td> <td>20.4941     </td> <td>4.13529     </td> <td>0           </td> <td>5.84118     </td>\n",
       "        </tr>\n",
       "        <tr>\n",
       "            <td>mar  </td> <td>13.0833     </td> <td>4.96852     </td> <td>0.0037037   </td> <td>4.35667     </td>\n",
       "        </tr>\n",
       "        <tr>\n",
       "            <td>may  </td> <td>14.65       </td> <td>4.45        </td> <td>0           </td> <td>19.24       </td>\n",
       "        </tr>\n",
       "        <tr>\n",
       "            <td>nov  </td> <td>11.8        </td> <td>4.5         </td> <td>0           </td> <td>0           </td>\n",
       "        </tr>\n",
       "    </tbody>\n",
       "</table>\n",
       "<p>... (2 rows omitted)</p>"
      ],
      "text/plain": [
       "month | temp average | wind average | rain average | area average\n",
       "apr   | 12.0444      | 4.66667      | 0            | 8.89111\n",
       "aug   | 21.6315      | 4.08641      | 0.0586957    | 12.4891\n",
       "dec   | 4.52222      | 7.64444      | 0            | 13.33\n",
       "feb   | 9.635        | 3.755        | 0            | 6.275\n",
       "jan   | 5.25         | 2            | 0            | 0\n",
       "jul   | 22.1094      | 3.73438      | 0.00625      | 14.3697\n",
       "jun   | 20.4941      | 4.13529      | 0            | 5.84118\n",
       "mar   | 13.0833      | 4.96852      | 0.0037037    | 4.35667\n",
       "may   | 14.65        | 4.45         | 0            | 19.24\n",
       "nov   | 11.8         | 4.5          | 0            | 0\n",
       "... (2 rows omitted)"
      ]
     },
     "execution_count": 77,
     "metadata": {},
     "output_type": "execute_result"
    }
   ],
   "source": [
    "monthly_statistics = forestfires.group(\"month\", np.average)\n",
    "monthly_statistics"
   ]
  },
  {
   "cell_type": "code",
   "execution_count": null,
   "metadata": {},
   "outputs": [],
   "source": [
    "grader.check(\"q2\")"
   ]
  },
  {
   "cell_type": "markdown",
   "metadata": {},
   "source": [
    "Let's look at just one variable specifically and pivot accordingly to gain deeper insights about the data. Rather than just grouping by month, group the data by both `month` and `rain` with the corresponding values as `area`. We want to aggregate the `area`s using the same average function you used in the previous question."
   ]
  },
  {
   "cell_type": "code",
   "execution_count": 82,
   "metadata": {},
   "outputs": [
    {
     "data": {
      "text/html": [
       "<table border=\"1\" class=\"dataframe\">\n",
       "    <thead>\n",
       "        <tr>\n",
       "            <th>rain</th> <th>apr</th> <th>aug</th> <th>dec</th> <th>feb</th> <th>jan</th> <th>jul</th> <th>jun</th> <th>mar</th> <th>may</th> <th>nov</th> <th>oct</th> <th>sep</th>\n",
       "        </tr>\n",
       "    </thead>\n",
       "    <tbody>\n",
       "        <tr>\n",
       "            <td>0   </td> <td>8.89111</td> <td>12.8371</td> <td>13.33</td> <td>6.275</td> <td>0   </td> <td>14.8332</td> <td>5.84118</td> <td>4.43887</td> <td>19.24</td> <td>0   </td> <td>6.638</td> <td>17.9426</td>\n",
       "        </tr>\n",
       "        <tr>\n",
       "            <td>0.2 </td> <td>0      </td> <td>0      </td> <td>0    </td> <td>0    </td> <td>0   </td> <td>0      </td> <td>0      </td> <td>0      </td> <td>0    </td> <td>0   </td> <td>0    </td> <td>0      </td>\n",
       "        </tr>\n",
       "        <tr>\n",
       "            <td>0.4 </td> <td>0      </td> <td>0      </td> <td>0    </td> <td>0    </td> <td>0   </td> <td>0      </td> <td>0      </td> <td>0      </td> <td>0    </td> <td>0   </td> <td>0    </td> <td>0      </td>\n",
       "        </tr>\n",
       "        <tr>\n",
       "            <td>0.8 </td> <td>0      </td> <td>0      </td> <td>0    </td> <td>0    </td> <td>0   </td> <td>0      </td> <td>0      </td> <td>0      </td> <td>0    </td> <td>0   </td> <td>0    </td> <td>0      </td>\n",
       "        </tr>\n",
       "        <tr>\n",
       "            <td>1   </td> <td>0      </td> <td>0      </td> <td>0    </td> <td>0    </td> <td>0   </td> <td>0      </td> <td>0      </td> <td>0      </td> <td>0    </td> <td>0   </td> <td>0    </td> <td>0      </td>\n",
       "        </tr>\n",
       "        <tr>\n",
       "            <td>1.4 </td> <td>0      </td> <td>2.17   </td> <td>0    </td> <td>0    </td> <td>0   </td> <td>0      </td> <td>0      </td> <td>0      </td> <td>0    </td> <td>0   </td> <td>0    </td> <td>0      </td>\n",
       "        </tr>\n",
       "        <tr>\n",
       "            <td>6.4 </td> <td>0      </td> <td>10.82  </td> <td>0    </td> <td>0    </td> <td>0   </td> <td>0      </td> <td>0      </td> <td>0      </td> <td>0    </td> <td>0   </td> <td>0    </td> <td>0      </td>\n",
       "        </tr>\n",
       "    </tbody>\n",
       "</table>"
      ],
      "text/plain": [
       "rain | apr     | aug     | dec   | feb   | jan  | jul     | jun     | mar     | may   | nov  | oct   | sep\n",
       "0    | 8.89111 | 12.8371 | 13.33 | 6.275 | 0    | 14.8332 | 5.84118 | 4.43887 | 19.24 | 0    | 6.638 | 17.9426\n",
       "0.2  | 0       | 0       | 0     | 0     | 0    | 0       | 0       | 0       | 0     | 0    | 0     | 0\n",
       "0.4  | 0       | 0       | 0     | 0     | 0    | 0       | 0       | 0       | 0     | 0    | 0     | 0\n",
       "0.8  | 0       | 0       | 0     | 0     | 0    | 0       | 0       | 0       | 0     | 0    | 0     | 0\n",
       "1    | 0       | 0       | 0     | 0     | 0    | 0       | 0       | 0       | 0     | 0    | 0     | 0\n",
       "1.4  | 0       | 2.17    | 0     | 0     | 0    | 0       | 0       | 0       | 0     | 0    | 0     | 0\n",
       "6.4  | 0       | 10.82   | 0     | 0     | 0    | 0       | 0       | 0       | 0     | 0    | 0     | 0"
      ]
     },
     "execution_count": 82,
     "metadata": {},
     "output_type": "execute_result"
    }
   ],
   "source": [
    "rain_to_area = forestfires.pivot(\"month\", \"rain\", values=\"area\", collect=np.average)\n",
    "rain_to_area"
   ]
  },
  {
   "cell_type": "code",
   "execution_count": null,
   "metadata": {},
   "outputs": [],
   "source": [
    "grader.check(\"q3\")"
   ]
  },
  {
   "cell_type": "markdown",
   "metadata": {},
   "source": [
    "Now this data is messy and can be simplified but we'll play around with this data more in the following labs so stay tuned! In the meantime, Congratulations on finishing! Run the next cell to make sure that you passed all of the test cases."
   ]
  },
  {
   "cell_type": "code",
   "execution_count": 58,
   "metadata": {},
   "outputs": [],
   "source": [
    "grader.check_all()"
   ]
  }
 ],
 "metadata": {
  "kernelspec": {
   "display_name": "Python 3",
   "language": "python",
   "name": "python3"
  },
  "language_info": {
   "codemirror_mode": {
    "name": "ipython",
    "version": 3
   },
   "file_extension": ".py",
   "mimetype": "text/x-python",
   "name": "python",
   "nbconvert_exporter": "python",
   "pygments_lexer": "ipython3",
   "version": "3.7.4"
  }
 },
 "nbformat": 4,
 "nbformat_minor": 2
}
