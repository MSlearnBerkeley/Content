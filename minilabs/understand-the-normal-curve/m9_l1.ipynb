{
 "cells": [
  {
   "cell_type": "markdown",
   "metadata": {},
   "source": [
    "# Understand the Normal Curve\n",
    "## Mini-Lab 1: Characteristics of the Normal Curve"
   ]
  },
  {
   "cell_type": "markdown",
   "metadata": {},
   "source": [
    "Welcome to your next mini-lab! Go ahead an run the following cell to get started. You can do that by clicking on the cell and then clickcing `Run` on the top bar. You can also just press `Shift` + `Enter` to run the cell."
   ]
  },
  {
   "cell_type": "code",
   "execution_count": null,
   "metadata": {},
   "outputs": [],
   "source": [
    "from datascience import *\n",
    "import numpy as np\n",
    "\n",
    "import matplotlib\n",
    "%matplotlib inline\n",
    "import matplotlib.pyplot as plots\n",
    "plots.style.use('fivethirtyeight')"
   ]
  },
  {
   "cell_type": "markdown",
   "metadata": {},
   "source": [
    "Rather than a traditional mini-lab format with graded questions, this mini-lab is more akin to an exploratory analysis of normal curves and similar content, kind of like the interactive content we've supplied you during your educational journey.\n",
    "\n",
    "In the previous lab, we've bootstrapped and created a confidence interval of novel COVID-19 test cases. For this demonstration go ahead and replace the relevant cells below with your solution from the previous lab."
   ]
  },
  {
   "cell_type": "code",
   "execution_count": null,
   "metadata": {},
   "outputs": [],
   "source": [
    "def proportion_positive(test_results):\n",
    "    numerator = ...\n",
    "    denominator = ...\n",
    "    return numerator / denominator\n",
    "\n",
    "\n",
    "def sample_population(population_table):\n",
    "    sampled_population = ...\n",
    "    return sampled_population\n",
    "\n",
    "\n",
    "def apply_statistic(sample_table, column_name, statistic_function):\n",
    "    return statistic_function(...)\n",
    "\n",
    "\n",
    "def bootstrap(sample_table, column_name, test_statistic):\n",
    "    resampled_table = ...\n",
    "    return apply_statistic(resampled_table, ..., ...)"
   ]
  },
  {
   "cell_type": "code",
   "execution_count": null,
   "metadata": {},
   "outputs": [],
   "source": [
    "def proportion_positive(test_results):\n",
    "    numerator = np.count_nonzero(test_results == \"positive\")\n",
    "    denominator = len(test_results)\n",
    "    return numerator / denominator\n",
    "\n",
    "\n",
    "def sample_population(population_table):\n",
    "    sampled_population = population_table.sample(population_table.num_rows)\n",
    "    return sampled_population\n",
    "\n",
    "\n",
    "def apply_statistic(sample_table, column_name, statistic_function):\n",
    "    return statistic_function(sample_table.column(column_name))\n",
    "\n",
    "\n",
    "def bootstrap(sample_table, column_name, test_statistic):\n",
    "    resampled_table = sample_population(sample_table)\n",
    "    return apply_statistic(resampled_table, column_name, test_statistic)"
   ]
  },
  {
   "cell_type": "code",
   "execution_count": null,
   "metadata": {},
   "outputs": [],
   "source": [
    "new_tests = Table().read_table(\"../datasets/new_covid19_village_tests.csv\")\n",
    "new_tests.show(5)"
   ]
  },
  {
   "cell_type": "markdown",
   "metadata": {},
   "source": [
    "The following cell will take the bootstrap code and put it in a function for ease of use. You will be running this function over and over again so it's best to make things as simple as possible."
   ]
  },
  {
   "cell_type": "code",
   "execution_count": null,
   "metadata": {},
   "outputs": [],
   "source": [
    "def full_bootstrap_simulation(iterations):\n",
    "    bootstrap_samples = make_array()\n",
    "\n",
    "    for iteration in np.arange(iterations):\n",
    "        bootstrap_result = bootstrap(new_tests, \"COVID-19 Test Result\", proportion_positive)\n",
    "        bootstrap_samples = np.append(bootstrap_samples, bootstrap_result)\n",
    "        \n",
    "    simulation_table = Table().with_column(\"Bootstrap Test Statistics\", bootstrap_samples)\n",
    "    simulation_table.hist(bins=np.arange(0.225, 0.375, 0.006));"
   ]
  },
  {
   "cell_type": "markdown",
   "metadata": {},
   "source": [
    "Now that everything is running and imported go ahead and run the function below. Change the number of iterations every time to something much smaller and much larger (though if you use a ridiculously large number, it may take some time to render.)\n",
    "\n",
    "What changes specifically and how does it change? Try to look at things like the smoothness of the curve, how the maxWhat about the smoothness of the curve? How does the maximum `Percent per unit` change as you increase or decrease the number of iterations?\n",
    "\n",
    "Do you notice anything interesting about our normal curve when you use a large number such as 100,000? If I told you that the true mean is 0.268, would that explain any phenomena in the graph?"
   ]
  },
  {
   "cell_type": "code",
   "execution_count": null,
   "metadata": {},
   "outputs": [],
   "source": [
    "full_bootstrap_simulation(1000)"
   ]
  },
  {
   "cell_type": "markdown",
   "metadata": {},
   "source": [
    "Feel free to tinker around with the `full_bootstrap_simulation` function as well as the test statistic being used. Feel free also to import different data or to create your own data!"
   ]
  }
 ],
 "metadata": {
  "kernelspec": {
   "display_name": "Python 3",
   "language": "python",
   "name": "python3"
  },
  "language_info": {
   "codemirror_mode": {
    "name": "ipython",
    "version": 3
   },
   "file_extension": ".py",
   "mimetype": "text/x-python",
   "name": "python",
   "nbconvert_exporter": "python",
   "pygments_lexer": "ipython3",
   "version": "3.7.4"
  }
 },
 "nbformat": 4,
 "nbformat_minor": 2
}
