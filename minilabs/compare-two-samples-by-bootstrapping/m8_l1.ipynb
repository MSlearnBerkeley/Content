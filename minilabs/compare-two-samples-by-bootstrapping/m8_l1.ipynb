{
 "cells": [
  {
   "cell_type": "markdown",
   "metadata": {},
   "source": [
    "# Compare Two Samples by Bootstrapping\n",
    "## Mini-Lab 1: Bootstrapping and Confidence Intervals"
   ]
  },
  {
   "cell_type": "markdown",
   "metadata": {},
   "source": [
    "Welcome to your next mini-lab! Go ahead an run the following cell to get started. You can do that by clicking on the cell and then clickcing `Run` on the top bar. You can also just press `Shift` + `Enter` to run the cell."
   ]
  },
  {
   "cell_type": "code",
   "execution_count": null,
   "metadata": {},
   "outputs": [],
   "source": [
    "from datascience import *\n",
    "import numpy as np\n",
    "import otter\n",
    "\n",
    "import matplotlib\n",
    "%matplotlib inline\n",
    "import matplotlib.pyplot as plots\n",
    "plots.style.use('fivethirtyeight')\n",
    "\n",
    "grader = otter.Notebook(\"m8_l1_tests\")"
   ]
  },
  {
   "cell_type": "markdown",
   "metadata": {},
   "source": [
    "After Blockeley University's analysis from the previous lab, news came out that the village received faulty test kits that had higher than average false negative rates. Since testing so many individuals takes time, Blockeley researchers decided to use data science to figure out what the true percentage of infected individuals in this village is. This village has already started retesting but is far behind other villages close by.\n",
    "\n",
    "As a Blockeley data scientist, you decide to take matters into your own hands and try to estimate the true proportion. We'll start with importing the new test data by running the next cell."
   ]
  },
  {
   "cell_type": "code",
   "execution_count": null,
   "metadata": {},
   "outputs": [],
   "source": [
    "new_tests = Table().read_table(\"../datasets/new_covid19_village_tests.csv\")\n",
    "new_tests.show(5)"
   ]
  },
  {
   "cell_type": "markdown",
   "metadata": {},
   "source": [
    "Bootstapping is similar to hypothesis testing in that we will need a function to sample these tables, a function to calculate the proportion, and function to apply this test statistic to our resampled tables. In the following cell, go ahead and create (or re-create) those functions. Keep in mind that `sample_population` is different from the previous mini-lab! Other than `sample_population`, the other two functions should be the same to the previous mini-lab so feel free to copy and paste your answers from the previous mini-lab onto this lab.\n",
    "\n",
    "For the `sample_population` function, the output should have the same number of rows as the input table. You can get the number of rows from the table by attaching `.num_rows` to the end of your table. For example, `test_table.num_rows` will return the number of rows for `test_table`.\n",
    "\n",
    "_Note_: Don't forget that we want the `with_replacement` parameter to be `True` now!"
   ]
  },
  {
   "cell_type": "code",
   "execution_count": null,
   "metadata": {},
   "outputs": [],
   "source": [
    "def proportion_positive(test_results):\n",
    "    numerator = ...\n",
    "    denominator = ...\n",
    "    return numerator / denominator\n",
    "\n",
    "\n",
    "def sample_population(population_table):\n",
    "    sampled_population = ...\n",
    "    return sampled_population\n",
    "\n",
    "\n",
    "def apply_statistic(sample_table, column_name, statistic_function):\n",
    "    return statistic_function(...)"
   ]
  },
  {
   "cell_type": "code",
   "execution_count": null,
   "metadata": {},
   "outputs": [],
   "source": [
    "grader.check(\"q1\")"
   ]
  },
  {
   "cell_type": "markdown",
   "metadata": {},
   "source": [
    "Now that we have our helper functions, we can go ahead and create the `boostrap` function which will run through one full bootstrap simulation. Go ahead and finish this function in the following cell.\n",
    "\n",
    "This `bootstrap` function takes in a `sample_table`, a `column_name`, and a `statistic_function`. This `sample_table` is the table containing the samples that we will bootstrap from whereas the `column_name` is the column in which we will apply our `statistic_function` function to. This function will return the test statistic of the newly resampled table."
   ]
  },
  {
   "cell_type": "code",
   "execution_count": null,
   "metadata": {},
   "outputs": [],
   "source": [
    "def bootstrap(sample_table, column_name, test_statistic):\n",
    "    resampled_table = ...\n",
    "    return apply_statistic(resampled_table, ..., ...)"
   ]
  },
  {
   "cell_type": "code",
   "execution_count": null,
   "metadata": {},
   "outputs": [],
   "source": [
    "grader.check(\"q2\")"
   ]
  },
  {
   "cell_type": "markdown",
   "metadata": {},
   "source": [
    "Now that this `bootstrap` function is complete, let's run through a full bootstrap method! In the following cell is a completed for-loop that is missing the `iterations` parameter. Go ahead and fill in this parameter and run the cell. Keep in mind that for the Law of Large Numbers to take effect, you will need a sufficiently large `iterations` count."
   ]
  },
  {
   "cell_type": "code",
   "execution_count": null,
   "metadata": {},
   "outputs": [],
   "source": [
    "# Simulation code below. Fill out this portion!\n",
    "\n",
    "iterations = ...\n",
    "bootstrap_samples = make_array()\n",
    "\n",
    "for iteration in np.arange(iterations):\n",
    "    bootstrap_result = bootstrap(new_tests, \"COVID-19 Test Result\", proportion_positive)\n",
    "    bootstrap_samples = np.append(bootstrap_samples, bootstrap_result)\n",
    "    \n",
    "bootstrap_samples"
   ]
  },
  {
   "cell_type": "markdown",
   "metadata": {},
   "source": [
    "The last thing the we would want to do is to create a confidence interval from our data to gauge if we captured the true proportion of COVID-19 cases. The final cell in this lab will print out the confidence interval for you data! It will also graph your bootstrap distribution as well as your corresponding confidence interval. Don't forget to replace `CI` with your confidnce interval value!"
   ]
  },
  {
   "cell_type": "code",
   "execution_count": null,
   "metadata": {},
   "outputs": [],
   "source": [
    "# Specify your confidence interval here!\n",
    "CI = ...\n",
    "\n",
    "\n",
    "# This code is to graph your bootsstrap data and where our confidence interval lies\n",
    "# There's no need to fill anything out but it is good to understand what's going on!\n",
    "\n",
    "\n",
    "left_bound = percentile((100 - CI) / 2, bootstrap_samples)\n",
    "right_bound = percentile(((100 - CI) / 2) + CI, bootstrap_samples)\n",
    "\n",
    "simulation_table = Table().with_column(\"Bootstrap Test Statistics\", bootstrap_samples)\n",
    "simulation_table.hist(bins=20)\n",
    "plots.plot(make_array(left_bound, right_bound), make_array(0, 0), color=\"yellow\", lw=10);"
   ]
  },
  {
   "cell_type": "markdown",
   "metadata": {},
   "source": [
    "Congratulations on finishing! Run the next cell to make sure that you passed all of the test cases."
   ]
  },
  {
   "cell_type": "code",
   "execution_count": null,
   "metadata": {},
   "outputs": [],
   "source": [
    "grader.check_all()"
   ]
  }
 ],
 "metadata": {
  "kernelspec": {
   "display_name": "Python 3",
   "language": "python",
   "name": "python3"
  },
  "language_info": {
   "codemirror_mode": {
    "name": "ipython",
    "version": 3
   },
   "file_extension": ".py",
   "mimetype": "text/x-python",
   "name": "python",
   "nbconvert_exporter": "python",
   "pygments_lexer": "ipython3",
   "version": "3.7.4"
  }
 },
 "nbformat": 4,
 "nbformat_minor": 2
}
