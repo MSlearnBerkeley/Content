{
 "cells": [
  {
   "cell_type": "markdown",
   "metadata": {},
   "source": [
    "# Introduction to Python Using the `datascience` Library\n",
    "## Mini-Lab 1: Expressions, Naming Variables, and Function Calls"
   ]
  },
  {
   "cell_type": "markdown",
   "metadata": {},
   "source": [
    "Welcome to your first ever mini-lab! The purpose of these mini-labs is to further reinforce the material that you're currently learning but in a practical setting. To get started, run the cell below to import everything that you need. You'll be running this cell every time you start a mini-lab. To do this, click on the cell then click `Run` on the top bar. You can also just press `Shift` + `Enter` to run the cell."
   ]
  },
  {
   "cell_type": "code",
   "execution_count": null,
   "metadata": {},
   "outputs": [],
   "source": [
    "from math import pow, sqrt, factorial\n",
    "import otter\n",
    "\n",
    "grader = otter.Notebook(\"m2_l1_tests\")"
   ]
  },
  {
   "cell_type": "markdown",
   "metadata": {},
   "source": [
    "Here we'll be practicing the python basics that you'll need for the rest of this course such as expressions, variables, and function calls. Let's start off with expressions: replace the `...` below with an expression that evaluates to 2020. After you run the cell you should see `2020` as your output."
   ]
  },
  {
   "cell_type": "code",
   "execution_count": null,
   "metadata": {},
   "outputs": [],
   "source": [
    "..."
   ]
  },
  {
   "cell_type": "markdown",
   "metadata": {},
   "source": [
    "Expressions are cool but more power is added when you combine expressions with variables. Again, replace `...` with your expression and run the cell. As you can see, the variable `twenty_twenty` is now bound to your evaluated expression."
   ]
  },
  {
   "cell_type": "code",
   "execution_count": null,
   "metadata": {},
   "outputs": [],
   "source": [
    "twenty_twenty = ...\n",
    "twenty_twenty"
   ]
  },
  {
   "cell_type": "markdown",
   "metadata": {},
   "source": [
    "As a means to make sure that your answers are correct, most labs have an autograder with test cases for various questions. To run the autograder, just run the autograding cell. An example of an autograding cell is below. If the variable `twenty_twenty` does not equal to 2020, then the grader will fail. Try it out!"
   ]
  },
  {
   "cell_type": "code",
   "execution_count": null,
   "metadata": {},
   "outputs": [],
   "source": [
    "grader.check(\"q1\")"
   ]
  },
  {
   "cell_type": "markdown",
   "metadata": {},
   "source": [
    "The final piece of the pie are function calls. Below is a call to the `pow` function that takes a number `a` to takes it to the `b`th power. Running the following cell should show `2048`"
   ]
  },
  {
   "cell_type": "code",
   "execution_count": null,
   "metadata": {},
   "outputs": [],
   "source": [
    "pow(2, 11)"
   ]
  },
  {
   "cell_type": "markdown",
   "metadata": {},
   "source": [
    "Last but not least, you can combine all three of these topics together. For example, below is an expression which uses mathematical function calls to calculate the 12th [Fibonacci number](https://en.wikipedia.org/wiki/Fibonacci_number) and assigns this result to the variable `fib_12`"
   ]
  },
  {
   "cell_type": "code",
   "execution_count": null,
   "metadata": {},
   "outputs": [],
   "source": [
    "n = 12\n",
    "fib_12 = int((pow(1 + sqrt(5), n) - pow(1 - sqrt(5), n)) / (pow(2, n) * sqrt(5)))\n",
    "fib_12"
   ]
  },
  {
   "cell_type": "markdown",
   "metadata": {},
   "source": [
    "As a final practice, we'll be implementing the Combination Equation. Don't worry if you don't understand what the combination formula is or what this formula is doing, just worry about the implementation. The formula that you will implement is this:\n",
    "$$C(n, r) = \\frac{n!}{r! * (n-r)!}$$\n",
    "Assign the variable `n` to be 16 and the variable `r` to be 4. Finally, assign the variable `cnr` to be the formula above.\n",
    "\n",
    "_NOTE:_ The `!` is the factorial operator. You can use this operator by using the function `factorial`."
   ]
  },
  {
   "cell_type": "code",
   "execution_count": null,
   "metadata": {},
   "outputs": [],
   "source": [
    "n = ...\n",
    "r = ...\n",
    "cnr = ...\n",
    "cnr"
   ]
  },
  {
   "cell_type": "code",
   "execution_count": null,
   "metadata": {},
   "outputs": [],
   "source": [
    "grader.check(\"q2\")"
   ]
  },
  {
   "cell_type": "markdown",
   "metadata": {},
   "source": [
    "Congratulations on finishing! Run the next cell to make sure that you passed all of the test cases."
   ]
  },
  {
   "cell_type": "code",
   "execution_count": null,
   "metadata": {},
   "outputs": [],
   "source": [
    "grader.check_all()"
   ]
  }
 ],
 "metadata": {
  "kernelspec": {
   "display_name": "Python 3",
   "language": "python",
   "name": "python3"
  },
  "language_info": {
   "codemirror_mode": {
    "name": "ipython",
    "version": 3
   },
   "file_extension": ".py",
   "mimetype": "text/x-python",
   "name": "python",
   "nbconvert_exporter": "python",
   "pygments_lexer": "ipython3",
   "version": "3.7.4"
  }
 },
 "nbformat": 4,
 "nbformat_minor": 2
}
