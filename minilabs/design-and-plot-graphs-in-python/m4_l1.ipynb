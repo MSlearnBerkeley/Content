{
 "cells": [
  {
   "cell_type": "markdown",
   "metadata": {},
   "source": [
    "# Design and Plot Graphs in Python\n",
    "## Mini-Lab 1: Categorical and Numerical Distributions"
   ]
  },
  {
   "cell_type": "markdown",
   "metadata": {},
   "source": [
    "Welcome to your next mini-lab! Go ahead an run the following cell to get started. You can do that by clicking on the cell and then clickcing `Run` on the top bar. You can also just press `Shift` + `Enter` to run the cell."
   ]
  },
  {
   "cell_type": "code",
   "execution_count": null,
   "metadata": {},
   "outputs": [],
   "source": [
    "from datascience import *\n",
    "import numpy as np\n",
    "import otter\n",
    "\n",
    "import matplotlib\n",
    "%matplotlib inline\n",
    "import matplotlib.pyplot as plots\n",
    "plots.style.use('fivethirtyeight')\n",
    "\n",
    "grader = otter.Notebook(\"m4_l1_tests\")"
   ]
  },
  {
   "cell_type": "markdown",
   "metadata": {},
   "source": [
    "If you recall from the last module's mini-labs, we have some unfinished forest fire data to analyze. The code below will set up this table again so go ahead and run the next cell."
   ]
  },
  {
   "cell_type": "code",
   "execution_count": null,
   "metadata": {},
   "outputs": [],
   "source": [
    "forestfires = Table.read_table(\"../datasets/forestfires.csv\")\n",
    "forestfires = forestfires.select(\"month\", \"temp\", \"wind\", \"rain\", \"area\")\n",
    "\n",
    "forestfires.show(3)"
   ]
  },
  {
   "cell_type": "markdown",
   "metadata": {},
   "source": [
    "The first thing that any data scientist should do is analyze and clean the data. We already did some of that by only selecting some columns over keeping the entire dataset but we'll need to do some more cleaning. The following cell does that for you.\n",
    "\n",
    "What we did was to change the `month`s from `string`s into `int`s so that we can more easily sort by time."
   ]
  },
  {
   "cell_type": "code",
   "execution_count": null,
   "metadata": {},
   "outputs": [],
   "source": [
    "def month_to_int(month):\n",
    "    conversion_dict = {\n",
    "        \"jan\": 1,\n",
    "        \"feb\": 2,\n",
    "        \"mar\": 3,\n",
    "        \"apr\": 4,\n",
    "        \"may\": 5,\n",
    "        \"jun\": 6,\n",
    "        \"jul\": 7,\n",
    "        \"aug\": 8,\n",
    "        \"sep\": 9,\n",
    "        \"oct\": 10,\n",
    "        \"nov\": 11,\n",
    "        \"dec\": 12\n",
    "    }\n",
    "    return conversion_dict[month]\n",
    "\n",
    "forestfires = forestfires.with_column(\"month int\", forestfires.apply(month_to_int, \"month\"))\n",
    "forestfires = forestfires.drop(\"month\").relabel(\"month int\", \"month\").move_to_start(\"month\")\n",
    "\n",
    "forestfires.show(3)"
   ]
  },
  {
   "cell_type": "markdown",
   "metadata": {},
   "source": [
    "Now with this data, generate a new table with one column representing the month (now as an `int`!) and with the average `temp`, `wind`, `rain`, and forest fire `area`s. This command can easily be done in one line.\n",
    "\n",
    "*Note*: Remember `np.average` from the last lab? Use that!"
   ]
  },
  {
   "cell_type": "code",
   "execution_count": null,
   "metadata": {},
   "outputs": [],
   "source": [
    "average_fires = ...\n",
    "average_fires"
   ]
  },
  {
   "cell_type": "code",
   "execution_count": null,
   "metadata": {},
   "outputs": [],
   "source": [
    "grader.check(\"q1\")"
   ]
  },
  {
   "cell_type": "markdown",
   "metadata": {},
   "source": [
    "From here we have several ways of proceeding. Every table has a method for graphing its contents whether that's through a bar graph, a scatterplot, or a simple line plot. It's up to the data scientist to figure out the best way to display this datax. Every plot and every graph has it's own purpose, and not every plot will fit with every situation. The next few cells are left empty to let you play around with these functions. The first cell wil plot everything at once in a line plot using the `plot` method. There is also `barh`, and `scatter`. Play around and transform the data to figure out the best possible way to display the data!\n",
    "\n",
    "*Note*: The x-axis is a required parameter in these method calls but the y-axis is not. Omitting this parameter will graph every other potential y-axis into one plot. To just show one y-axis, add another argument, like `average_fires.plot(\"month\", \"area average\")`"
   ]
  },
  {
   "cell_type": "code",
   "execution_count": null,
   "metadata": {},
   "outputs": [],
   "source": [
    "average_fires.plot(\"month\")"
   ]
  },
  {
   "cell_type": "code",
   "execution_count": null,
   "metadata": {},
   "outputs": [],
   "source": [
    "..."
   ]
  },
  {
   "cell_type": "markdown",
   "metadata": {},
   "source": [
    "Congratulations on finishing! Run the next cell to make sure that you passed all of the test cases."
   ]
  },
  {
   "cell_type": "code",
   "execution_count": null,
   "metadata": {},
   "outputs": [],
   "source": [
    "grader.check_all()"
   ]
  }
 ],
 "metadata": {
  "kernelspec": {
   "display_name": "Python 3",
   "language": "python",
   "name": "python3"
  },
  "language_info": {
   "codemirror_mode": {
    "name": "ipython",
    "version": 3
   },
   "file_extension": ".py",
   "mimetype": "text/x-python",
   "name": "python",
   "nbconvert_exporter": "python",
   "pygments_lexer": "ipython3",
   "version": "3.7.4"
  }
 },
 "nbformat": 4,
 "nbformat_minor": 2
}
