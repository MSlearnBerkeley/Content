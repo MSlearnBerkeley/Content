{
 "cells": [
  {
   "cell_type": "markdown",
   "metadata": {},
   "source": [
    "# Create and Manipulate Tables Using the `datascience` Library\n",
    "## Mini-Lab 2: Joining Tables, Grouping Tables, and Pivot Tables"
   ]
  },
  {
   "cell_type": "markdown",
   "metadata": {},
   "source": [
    "Welcome to your next mini-lab! Go ahead an run the following cell to get started. You can do that by clicking on the cell and then clickcing `Run` on the top bar. You can also just press `Shift` + `Enter` to run the cell."
   ]
  },
  {
   "cell_type": "code",
   "execution_count": null,
   "metadata": {},
   "outputs": [],
   "source": [
    "from datascience import *\n",
    "import numpy as np\n",
    "import otter\n",
    "\n",
    "grader = otter.Notebook(\"m3_l2_tests\")"
   ]
  },
  {
   "cell_type": "markdown",
   "metadata": {},
   "source": [
    "Now let's try something more interesting with tables. If you recall, this is the table from the previous mini-lab. Go ahead and run the next cell to recreate it."
   ]
  },
  {
   "cell_type": "code",
   "execution_count": null,
   "metadata": {},
   "outputs": [],
   "source": [
    "fruits = Table().with_columns(\n",
    "                                \"Names\", make_array(\"Tien\", \"Lucy\", \"Ahmed\"),\n",
    "                                \"Apples\", make_array(5, 2, 3),\n",
    "                                \"Oranges\", make_array(2, 3, 1),\n",
    "                                \"Dragonfruits\", make_array(3, 7, 9)\n",
    "                             )\n",
    "fruits"
   ]
  },
  {
   "cell_type": "markdown",
   "metadata": {},
   "source": [
    "Let's now say that we have another table that contains more information. Let's call this table `more_fruits` and contains information like our trio's favorite fruits, least favorite fruits, and (you guessed it) more fruit values! Run the next cell to import this data."
   ]
  },
  {
   "cell_type": "code",
   "execution_count": null,
   "metadata": {},
   "outputs": [],
   "source": [
    "more_fruits = Table().with_columns(\n",
    "                                \"Names\", make_array(\"Tien\", \"Lucy\", \"Ahmed\"),\n",
    "                                \"Lychee\", make_array(3, 14, 12),\n",
    "                                \"Rambutan\", make_array(9, 0, 1),\n",
    "                                \"Kiwi\", make_array(4, 10, 7),\n",
    "                                \"Favorite Fruit\", make_array(\"Apple\", \"Orange\", \"Lychee\"),\n",
    "                                \"Least Favorite Fruit\", make_array(\"Orange\", \"Kiwi\", \"Kiwi\")\n",
    "                             )\n",
    "more_fruits"
   ]
  },
  {
   "cell_type": "markdown",
   "metadata": {},
   "source": [
    "It's annoying to deal with two separate tables so data scientists often join multiple tables together to consolidate related data. For your next task, go ahead `join` these two tables together!"
   ]
  },
  {
   "cell_type": "code",
   "execution_count": null,
   "metadata": {},
   "outputs": [],
   "source": [
    "all_fruits = ...\n",
    "all_fruits"
   ]
  },
  {
   "cell_type": "code",
   "execution_count": null,
   "metadata": {},
   "outputs": [],
   "source": [
    "grader.check(\"q1\")"
   ]
  },
  {
   "cell_type": "markdown",
   "metadata": {},
   "source": [
    "Sadly the `all_fruits` table is too simplistic to play around with more advanced functions so we'll be importing our first ever outside dataset! The following dataset is taken from the [University of California, Irvine](https://archive.ics.uci.edu/ml/datasets/Forest+Fires) includes data about forest fires in Portugal. Run the following cell to create this table."
   ]
  },
  {
   "cell_type": "code",
   "execution_count": null,
   "metadata": {},
   "outputs": [],
   "source": [
    "forestfires = Table.read_table(\"../datasets/forestfires.csv\")\n",
    "forestfires = forestfires.select(\"month\", \"temp\", \"wind\", \"rain\", \"area\")\n",
    "\n",
    "forestfires.show(3)"
   ]
  },
  {
   "cell_type": "markdown",
   "metadata": {},
   "source": [
    "Now that we have some interesting data, let's find some interesting metrics. Go ahead and `group` the data by `month` and aggregate by the average. This will allow us to pull some statistics about these forest fires over the course of the year.\n",
    "\n",
    "*NOTE*: You can use the `np.average` function to find the average value of an array."
   ]
  },
  {
   "cell_type": "code",
   "execution_count": null,
   "metadata": {},
   "outputs": [],
   "source": [
    "monthly_statistics = ...\n",
    "monthly_statistics"
   ]
  },
  {
   "cell_type": "code",
   "execution_count": null,
   "metadata": {},
   "outputs": [],
   "source": [
    "grader.check(\"q2\")"
   ]
  },
  {
   "cell_type": "markdown",
   "metadata": {},
   "source": [
    "Let's look at just one variable specifically and pivot accordingly to gain deeper insights about the data. Rather than just grouping by month, group the data by both `month` and `rain` with the corresponding values as `area`. We want to aggregate the `area`s using the same average function you used in the previous question."
   ]
  },
  {
   "cell_type": "code",
   "execution_count": null,
   "metadata": {},
   "outputs": [],
   "source": [
    "rain_to_area = ...\n",
    "rain_to_area"
   ]
  },
  {
   "cell_type": "code",
   "execution_count": null,
   "metadata": {},
   "outputs": [],
   "source": [
    "grader.check(\"q3\")"
   ]
  },
  {
   "cell_type": "markdown",
   "metadata": {},
   "source": [
    "Now this data is messy and can be simplified but we'll play around with this data more in the following labs so stay tuned! In the meantime, Congratulations on finishing! Run the next cell to make sure that you passed all of the test cases."
   ]
  },
  {
   "cell_type": "code",
   "execution_count": null,
   "metadata": {},
   "outputs": [],
   "source": [
    "grader.check_all()"
   ]
  },
  {
   "cell_type": "code",
   "execution_count": null,
   "metadata": {},
   "outputs": [],
   "source": []
  }
 ],
 "metadata": {
  "kernelspec": {
   "display_name": "Python 3",
   "language": "python",
   "name": "python3"
  },
  "language_info": {
   "codemirror_mode": {
    "name": "ipython",
    "version": 3
   },
   "file_extension": ".py",
   "mimetype": "text/x-python",
   "name": "python",
   "nbconvert_exporter": "python",
   "pygments_lexer": "ipython3",
   "version": "3.7.4"
  }
 },
 "nbformat": 4,
 "nbformat_minor": 2
}
