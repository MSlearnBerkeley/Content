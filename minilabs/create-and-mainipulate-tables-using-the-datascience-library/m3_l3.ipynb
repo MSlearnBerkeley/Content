{
 "cells": [
  {
   "cell_type": "markdown",
   "metadata": {},
   "source": [
    "# Create and Manipulate Tables Using the `datascience` Library\n",
    "## Mini-Lab 3: More NumPy, Functions, Conditionals, and Iteration"
   ]
  },
  {
   "cell_type": "markdown",
   "metadata": {},
   "source": [
    "Welcome to your next mini-lab! Go ahead an run the following cell to get started. You can do that by clicking on the cell and then clickcing `Run` on the top bar. You can also just press `Shift` + `Enter` to run the cell."
   ]
  },
  {
   "cell_type": "code",
   "execution_count": null,
   "metadata": {},
   "outputs": [],
   "source": [
    "from datascience import *\n",
    "import numpy as np\n",
    "import otter\n",
    "\n",
    "import matplotlib\n",
    "%matplotlib inline\n",
    "import matplotlib.pyplot as plots\n",
    "plots.style.use('fivethirtyeight')\n",
    "\n",
    "grader = otter.Notebook(\"m3_l3_tests\")"
   ]
  },
  {
   "cell_type": "markdown",
   "metadata": {},
   "source": [
    "For this lab we'll take a quick break from the `datascience` library and run through some more python basics. After these basics, you'll be ready to tackle the rest of this course! We'll start with some `numpy` randomness. Go ahead and run the cell below to generate a random number between 1 and 5."
   ]
  },
  {
   "cell_type": "code",
   "execution_count": null,
   "metadata": {},
   "outputs": [],
   "source": [
    "np.random.choice(make_array(1, 2, 3, 4, 5))"
   ]
  },
  {
   "cell_type": "markdown",
   "metadata": {},
   "source": [
    "From now on, thought, we won't really be dealing with true randomness sadly, we'll be setting a seed every time so that we can grade your submission correctly every time. Here's an example use case: if you run the cell below, we know for sure that the answer will be 1!"
   ]
  },
  {
   "cell_type": "code",
   "execution_count": null,
   "metadata": {},
   "outputs": [],
   "source": [
    "np.random.seed(2020)\n",
    "np.random.choice(make_array(1, 2, 3, 4, 5))"
   ]
  },
  {
   "cell_type": "markdown",
   "metadata": {},
   "source": [
    "The next big thing that we will learn are functions. Functions are a very powerful way of modularizing our code and simplifying how data scientists create large programs. If you remember our `fibonacci` code from the very first mini-lab, we can take that code snippet and create a function for it so that we can call it anytime we want. Below is how we do that."
   ]
  },
  {
   "cell_type": "code",
   "execution_count": null,
   "metadata": {},
   "outputs": [],
   "source": [
    "def fibonacci(n):\n",
    "    return int((pow(1 + np.sqrt(5), n) - pow(1 - np.sqrt(5), n)) / (pow(2, n) * np.sqrt(5)))\n",
    "\n",
    "fibonacci(12)"
   ]
  },
  {
   "cell_type": "markdown",
   "metadata": {},
   "source": [
    "Now let's combine the two! In the cell below, create the the dice function which will randomly return a number between 1 and 6. The function definition has already been started for you, just replace `...` with what we want.\n",
    "\n",
    "*NOTE:* Notice how this function doesn't have any input. It only has a singular output!"
   ]
  },
  {
   "cell_type": "code",
   "execution_count": null,
   "metadata": {},
   "outputs": [],
   "source": [
    "def dice():\n",
    "    return ...\n",
    "\n",
    "dice()"
   ]
  },
  {
   "cell_type": "code",
   "execution_count": null,
   "metadata": {},
   "outputs": [],
   "source": [
    "grader.check(\"q1\")"
   ]
  },
  {
   "cell_type": "markdown",
   "metadata": {},
   "source": [
    "The next powerful bit of python are conditionals. Conditionals let us act upon a previous result accordinly. For example, we can have different code outputs for whether or not a `coin_flip` variable is `heads` or `tails`. In the cell below, we'll simulte a coin flip with our `dice` function. If the `dice` is 1, 2, or 3, we should assign `coint_output` to `heads`. Otherwise if the `dice` outputs 4, 5, or, 6, then assign `coint_output` to `tails`. Go ahead and replace the `...` to implement this.  Some of the conditional has already been written for you."
   ]
  },
  {
   "cell_type": "code",
   "execution_count": null,
   "metadata": {},
   "outputs": [],
   "source": [
    "np.random.seed(2020)\n",
    "dice_output = dice()\n",
    "if ...:\n",
    "    coin_output = ...\n",
    "else ...:\n",
    "    coin_output = ...\n",
    "    \n",
    "coin_output"
   ]
  },
  {
   "cell_type": "markdown",
   "metadata": {},
   "source": [
    "The final piece of the python puzzle is iteration. Instead of running a cell every single to flip a coin or roll a dice, we can have python roll this dice or flip this coin any number of times that we want! Some of the iteration loop has already been written for you. In the following cell, replace the `...` to run a simulation of the dice 10000 times."
   ]
  },
  {
   "cell_type": "code",
   "execution_count": null,
   "metadata": {},
   "outputs": [],
   "source": [
    "np.random.seed(2020)\n",
    "\n",
    "dice_rolls = make_array()\n",
    "...:\n",
    "    dice_output = ...\n",
    "    dice_rolls = np.append(dice_rolls, dice_output)\n",
    "    \n",
    "dice_rolls"
   ]
  },
  {
   "cell_type": "code",
   "execution_count": null,
   "metadata": {},
   "outputs": [],
   "source": [
    "grader.check(\"q2\")"
   ]
  },
  {
   "cell_type": "markdown",
   "metadata": {},
   "source": [
    "As a bonus question, a `datascience` table has a method called `bar` that takes in two parameters as an axis. This create a bar graph of these do parameters with the first parameter as the x-axis and the second parameter as the y-axis. Replace `...` with an expression that creates a table with two columns: the `Dice Rolls` column with the dice rolls generated above and a `count` column which counts the number of times each roll has occured. Is there a `datascience` function that exists that can make this easy for you?\n",
    "\n",
    "*Hint*: There is! Also don't forget that you can create an empty table by calling `Table()` and add columns with the `with_column` method.\n",
    "\n",
    "This question won't be graded in a traditional sense since we learned this previously so if you want the answer, just change the `answer` variable to `True` and run the check cell."
   ]
  },
  {
   "cell_type": "code",
   "execution_count": null,
   "metadata": {},
   "outputs": [],
   "source": [
    "answer = False\n",
    "\n",
    "dice_table = ...\n",
    "dice_table.bar(\"Dice Rolls\", \"count\")"
   ]
  },
  {
   "cell_type": "code",
   "execution_count": null,
   "metadata": {},
   "outputs": [],
   "source": [
    "grader.check(\"q3\")"
   ]
  },
  {
   "cell_type": "markdown",
   "metadata": {},
   "source": [
    "Congratulations on finishing this lab! Run the next cell to make sure that you passed all of the test cases."
   ]
  },
  {
   "cell_type": "code",
   "execution_count": null,
   "metadata": {},
   "outputs": [],
   "source": [
    "grader.check_all()"
   ]
  }
 ],
 "metadata": {
  "kernelspec": {
   "display_name": "Python 3",
   "language": "python",
   "name": "python3"
  },
  "language_info": {
   "codemirror_mode": {
    "name": "ipython",
    "version": 3
   },
   "file_extension": ".py",
   "mimetype": "text/x-python",
   "name": "python",
   "nbconvert_exporter": "python",
   "pygments_lexer": "ipython3",
   "version": "3.7.4"
  }
 },
 "nbformat": 4,
 "nbformat_minor": 2
}
