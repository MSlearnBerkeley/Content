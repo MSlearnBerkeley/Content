{
 "cells": [
  {
   "cell_type": "markdown",
   "metadata": {},
   "source": [
    "# Test Hypothesis by Simulating Statistics\n",
    "## Mini-Lab: Hypothesis Testing"
   ]
  },
  {
   "cell_type": "markdown",
   "metadata": {},
   "source": [
    "Welcome to your next mini-lab! Go ahead an run the following cell to get started. You can do that by clicking on the cell and then clickcing `Run` on the top bar. You can also just press `Shift` + `Enter` to run the cell."
   ]
  },
  {
   "cell_type": "code",
   "execution_count": null,
   "metadata": {},
   "outputs": [],
   "source": [
    "from datascience import *\n",
    "import numpy as np\n",
    "import otter\n",
    "\n",
    "import matplotlib\n",
    "%matplotlib inline\n",
    "import matplotlib.pyplot as plots\n",
    "plots.style.use('fivethirtyeight')\n",
    "\n",
    "grader = otter.Notebook(\"m7_l1_tests\")"
   ]
  },
  {
   "cell_type": "markdown",
   "metadata": {},
   "source": [
    "In the previous two labs we've analyzed some data regarding COVID-19 test cases. Let's continue to analyze this data, specifically _claims_ about this data. Once again, we'll be be using ficitious statistics from Blockeley University.\n",
    "\n",
    "Let's say that Blockeley data science faculty are looking at the spread of COVID-19 across the realm of Minecraft. We have very specific data about Blockeley and the rest of Cubefornia but other realms' data isn't as clear cut or detailed. Let's say that a neighboring village has been reporting a COVID-19 infection rate of 26%. Should we trust these numbers?\n",
    "\n",
    "Regardless of whether or not you believe these claims, the job of a data scientist is to definitively substantiate or disprove such claims using data. You have access to the test results of similar sized villages nearby and come up with the brilliant idea of running a hypothesis test. Let's go ahead and load it! Run te cell below to import this data. If you want to explore this data further, go ahead and group by both columns! An empty cell is provided for you to do this."
   ]
  },
  {
   "cell_type": "code",
   "execution_count": null,
   "metadata": {},
   "outputs": [],
   "source": [
    "test_results = Table.read_table(\"../datasets/covid19_village_tests.csv\")\n",
    "test_results.show(5)"
   ]
  },
  {
   "cell_type": "code",
   "execution_count": null,
   "metadata": {},
   "outputs": [],
   "source": [
    "..."
   ]
  },
  {
   "cell_type": "markdown",
   "metadata": {},
   "source": [
    "From here we can formulate our **Null Hypothesis** and **Alternate Hypothesis** Our *null hypothesis* is that this village truly has a 26% infection rate amongst the populations. Our *alternate hypothesis* is that this village does not in actuality have a 26% infection rate - it's way too low. Now we need our test statistic. Since we're looking at the infection rate in the population, our test statistic should be given by the following formula:\n",
    "\n",
    "$$\\text{Test Statistic} = \\frac{\\text{Number of Positive Cases}}{\\text{Total Number of Cases}}$$\n",
    "\n",
    "We've started the function declaration for you. Go ahead and complete `proportion_positive` to calculate this test statistic.\n",
    "\n",
    "*Note*: Check out `np.count_nonzero` and built-in `len` function! These should be helpful for you."
   ]
  },
  {
   "cell_type": "code",
   "execution_count": null,
   "metadata": {},
   "outputs": [],
   "source": [
    "def proportion_positive(test_results):\n",
    "    numerator = ...\n",
    "    denominator = ...\n",
    "    return numerator / denominator"
   ]
  },
  {
   "cell_type": "code",
   "execution_count": null,
   "metadata": {},
   "outputs": [],
   "source": [
    "grader.check(\"q1\")"
   ]
  },
  {
   "cell_type": "markdown",
   "metadata": {},
   "source": [
    "If you grouped by `Village Number` before, you would realize that there are roughly 3000 tests per village. Let's now create functions that will randomly take 3000 tests from the `test_results` table and to apply our test statistic. Complete the `sample_population` and `apply_statistic` functions below!\n",
    "\n",
    "The `sample_population` function will take a `population_table`. This will be a table with all the data we want and will return a new table that has been sampled from this `population_table`. Please note that `with_replacement` should be `False`.\n",
    "\n",
    "The `apply_statistic` function will take in a `sample_table`, `column_name`, and `statistic_function`. The `sample_table` will be a table full of samples taken from a population table, the `column_name` will be the name of the column containing the data of interest, and the `statistic_function` which will be the test statistic that we will use. This function will return the result of using the `statistic_function` on the `sample_table`."
   ]
  },
  {
   "cell_type": "code",
   "execution_count": null,
   "metadata": {},
   "outputs": [],
   "source": [
    "def sample_population(population_table):\n",
    "    sampled_population = ...\n",
    "    return sampled_population\n",
    "\n",
    "\n",
    "def apply_statistic(sample_table, column_name, statistic_function):\n",
    "    return statistic_function(...)"
   ]
  },
  {
   "cell_type": "code",
   "execution_count": null,
   "metadata": {},
   "outputs": [],
   "source": [
    "grader.check(\"q2\")"
   ]
  },
  {
   "cell_type": "markdown",
   "metadata": {},
   "source": [
    "Now for the simulation portion! Complete the for loop below and fill in a reasonable number for the `iterations` variable. The `iterations` variable will determine just how many random samples that we will take in order to test our hypotheses. There is also code that will visualize your simulation and give you data regarding your simulation vs. the null hypothesis."
   ]
  },
  {
   "cell_type": "code",
   "execution_count": null,
   "metadata": {},
   "outputs": [],
   "source": [
    "# Simulation code below. Fill out this portion!\n",
    "\n",
    "iterations = ...\n",
    "simulations = make_array()\n",
    "\n",
    "for iteration in np.arange(iterations):\n",
    "    sample_table = ...\n",
    "    test_statistic = ...\n",
    "    simulations = np.append(simulations, test_statistic)\n",
    "    \n",
    "\n",
    "# This code is to tell you what percentage of our simulations are at or below the null hypothesis\n",
    "# There's no need to fill anything out but it is good to understand what's going on!\n",
    "\n",
    "null_hypothesis = 0.26\n",
    "num_below = np.count_nonzero(simulations <= null_hypothesis) / iterations\n",
    "print(f\"Out of the {iterations} simulations, roughly {round(num_below * 100, 2)}% of test statistics \" +\n",
    "      f\"are less than our null hypothesis of a {null_hypothesis * 100}% infection rate.\")\n",
    "\n",
    "\n",
    "# This code is to graph your simulation data and where our null hypothesis lies\n",
    "# There's no need to fill anything out but it is good to understand what's going on!\n",
    "\n",
    "\n",
    "simulation_table = Table().with_column(\"Simulated Test Statistics\", simulations)\n",
    "simulation_table.hist(bins=20)\n",
    "plots.scatter(null_hypothesis, 0, color='red', s=30);"
   ]
  },
  {
   "cell_type": "code",
   "execution_count": null,
   "metadata": {},
   "outputs": [],
   "source": [
    "grader.check(\"q3\")"
   ]
  },
  {
   "cell_type": "markdown",
   "metadata": {},
   "source": [
    "Given our hypothesis test, what can you conclude about the village that reports having a 26% COVID-19 infection rate? Has your hypothesis been proven or disproven? Do you now trust or distrust these numbers? And if you do distrust these numbers, what do you think went wrong in the reporting?"
   ]
  },
  {
   "cell_type": "markdown",
   "metadata": {},
   "source": [
    "Congratulations on finishing! Run the next cell to make sure that you passed all of the test cases."
   ]
  },
  {
   "cell_type": "code",
   "execution_count": null,
   "metadata": {},
   "outputs": [],
   "source": [
    "grader.check_all()"
   ]
  }
 ],
 "metadata": {
  "kernelspec": {
   "display_name": "Python 3",
   "language": "python",
   "name": "python3"
  },
  "language_info": {
   "codemirror_mode": {
    "name": "ipython",
    "version": 3
   },
   "file_extension": ".py",
   "mimetype": "text/x-python",
   "name": "python",
   "nbconvert_exporter": "python",
   "pygments_lexer": "ipython3",
   "version": "3.7.4"
  }
 },
 "nbformat": 4,
 "nbformat_minor": 2
}
