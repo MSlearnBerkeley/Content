{
 "cells": [
  {
   "cell_type": "markdown",
   "metadata": {},
   "source": [
    "# Introduction to Probability\n",
    "## Mini-Lab: Basic Probability, Bayes' Rule, Decision Making"
   ]
  },
  {
   "cell_type": "markdown",
   "metadata": {},
   "source": [
    "Welcome to your next mini-lab! Go ahead an run the following cell to get started. You can do that by clicking on the cell and then clickcing `Run` on the top bar. You can also just press `Shift` + `Enter` to run the cell."
   ]
  },
  {
   "cell_type": "code",
   "execution_count": null,
   "metadata": {},
   "outputs": [],
   "source": [
    "import otter\n",
    "\n",
    "grader = otter.Notebook(\"m5_l1_tests\")"
   ]
  },
  {
   "cell_type": "markdown",
   "metadata": {},
   "source": [
    "As you've just learned, probability is a very powerful tool that all data scientists use in decision making. For this lab, we'll be looking at data presented by the [COVID Tracking Project](https://covidtracking.com/) and look at test numbers and test results from the United States on the date April 26th, 2020.\n",
    "\n",
    "According to this project, the total number of tests performed is 5,401,784 with 960,131 of those tests indicating a positive result for COVID-19. Now say let's say that an individual took a COVID-19 test in the United States at this time, assign `prob_positive` to the probability that a person will test positive for COVID-19. Don't overthink this just yet, the answer is as simple as you think!"
   ]
  },
  {
   "cell_type": "code",
   "execution_count": null,
   "metadata": {},
   "outputs": [],
   "source": [
    "prob_positive = ...\n",
    "prob_positive"
   ]
  },
  {
   "cell_type": "code",
   "execution_count": null,
   "metadata": {},
   "outputs": [],
   "source": [
    "grader.check(\"q1\")"
   ]
  },
  {
   "cell_type": "markdown",
   "metadata": {},
   "source": [
    "Given this positive result, would you trust the test given to you and believe that this individual actually has COVID-19? Before you answer that question, know thatno test is 100% perfect or reliable. Every test has a *false positive* and *false negative* rate. A false positive means that the test says that a person has a disease when in reality they don't. Similarly, a false negative means that the test says that a person does not have a disease when in reality they do. COVID-19 false negative and false positve rates fluctuate between the test and news source, therefore, _we will not be using actual data for these values._ We'll instead be using fictitious data from a far off university called the University of Cubeifornia, Blockeley. Blockeley Univeristy (as the students call it) is located in Blockeley, Cubeifornia. \n",
    "\n",
    "With that said, let's assume that COVID-19 tests developed at Blockeley are very good and have a 5% false positive rate. Let's also assume that the test has a 10% false negative rate. Now given these numbers, let's say again that an individual takes a COVID-19 test. Assign `prob_negative` to the probability that a person actually does _not_ have COVID-19 _after receiving a negative test result_."
   ]
  },
  {
   "cell_type": "code",
   "execution_count": null,
   "metadata": {},
   "outputs": [],
   "source": [
    "prob_negative = ...\n",
    "prob_negative"
   ]
  },
  {
   "cell_type": "code",
   "execution_count": null,
   "metadata": {},
   "outputs": [],
   "source": [
    "grader.check(\"q2\")"
   ]
  },
  {
   "cell_type": "markdown",
   "metadata": {},
   "source": [
    "Given the false negative and false positive rates above, what is the probability that a person _actually_ has COVID-19 after taking a test, no matter what the result is? Assign `prob_actual` to this probability."
   ]
  },
  {
   "cell_type": "code",
   "execution_count": null,
   "metadata": {},
   "outputs": [],
   "source": [
    "prob_actual = ...\n",
    "prob_actual"
   ]
  },
  {
   "cell_type": "code",
   "execution_count": null,
   "metadata": {},
   "outputs": [],
   "source": [
    "grader.check(\"q3\")"
   ]
  },
  {
   "cell_type": "markdown",
   "metadata": {},
   "source": [
    "It's increasingly important to learn the ins and outs of how data is collected and used, especially in the real world. Not everything is simple and even something like disease testing can have an dash of complexity mixed in. With that said, congratulations on finishing! Run the next cell to make sure that you passed all of the test cases."
   ]
  },
  {
   "cell_type": "code",
   "execution_count": null,
   "metadata": {},
   "outputs": [],
   "source": [
    "grader.check_all()"
   ]
  }
 ],
 "metadata": {
  "kernelspec": {
   "display_name": "Python 3",
   "language": "python",
   "name": "python3"
  },
  "language_info": {
   "codemirror_mode": {
    "name": "ipython",
    "version": 3
   },
   "file_extension": ".py",
   "mimetype": "text/x-python",
   "name": "python",
   "nbconvert_exporter": "python",
   "pygments_lexer": "ipython3",
   "version": "3.7.4"
  }
 },
 "nbformat": 4,
 "nbformat_minor": 2
}
