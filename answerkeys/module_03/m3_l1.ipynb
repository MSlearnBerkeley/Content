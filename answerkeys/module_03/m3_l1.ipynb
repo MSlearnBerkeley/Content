{
 "cells": [
  {
   "cell_type": "markdown",
   "metadata": {},
   "source": [
    "# Create and Manipulate Tables Using the `datascience` Library\n",
    "## Mini-Lab 1: Row Sorting, Row Selection, Applying Functions to Tables"
   ]
  },
  {
   "cell_type": "markdown",
   "metadata": {},
   "source": [
    "Welcome to your next mini-lab! Go ahead an run the following cell to get started. You can do that by clicking on the cell and then clickcing `Run` on the top bar. You can also just press `Shift` + `Enter` to run the cell."
   ]
  },
  {
   "cell_type": "code",
   "execution_count": 1,
   "metadata": {},
   "outputs": [],
   "source": [
    "from datascience import *\n",
    "import otter\n",
    "\n",
    "grader = otter.Notebook(\"m3_l1_tests\")"
   ]
  },
  {
   "cell_type": "markdown",
   "metadata": {},
   "source": [
    "Now we'll finally be working with tables! The following cell creates a table of fruits. Each row is a student whereas each row tells us how many of which fruit they have. Don't worry about _how_ the table is created, just worry about the contents of the table itself, though table creation isn't at all that bad!"
   ]
  },
  {
   "cell_type": "code",
   "execution_count": 2,
   "metadata": {},
   "outputs": [
    {
     "data": {
      "text/html": [
       "<table border=\"1\" class=\"dataframe\">\n",
       "    <thead>\n",
       "        <tr>\n",
       "            <th>Names</th> <th>Apples</th> <th>Oranges</th> <th>Dragonfruits</th>\n",
       "        </tr>\n",
       "    </thead>\n",
       "    <tbody>\n",
       "        <tr>\n",
       "            <td>Tien </td> <td>5     </td> <td>2      </td> <td>3           </td>\n",
       "        </tr>\n",
       "        <tr>\n",
       "            <td>Lucy </td> <td>2     </td> <td>3      </td> <td>7           </td>\n",
       "        </tr>\n",
       "        <tr>\n",
       "            <td>Ahmed</td> <td>3     </td> <td>1      </td> <td>9           </td>\n",
       "        </tr>\n",
       "    </tbody>\n",
       "</table>"
      ],
      "text/plain": [
       "Names | Apples | Oranges | Dragonfruits\n",
       "Tien  | 5      | 2       | 3\n",
       "Lucy  | 2      | 3       | 7\n",
       "Ahmed | 3      | 1       | 9"
      ]
     },
     "execution_count": 2,
     "metadata": {},
     "output_type": "execute_result"
    }
   ],
   "source": [
    "fruits = Table().with_columns(\n",
    "                                \"Names\", make_array(\"Tien\", \"Lucy\", \"Ahmed\"),\n",
    "                                \"Apples\", make_array(5, 2, 3),\n",
    "                                \"Oranges\", make_array(2, 3, 1),\n",
    "                                \"Dragonfruits\", make_array(3, 7, 9)\n",
    "                             )\n",
    "fruits"
   ]
  },
  {
   "cell_type": "markdown",
   "metadata": {},
   "source": [
    "Now that we have the `fruits` table, we can use row operations change around the format of our table. Go ahead and sort the `fruits` table in _descending_ order by the number of dragonfruits."
   ]
  },
  {
   "cell_type": "code",
   "execution_count": 3,
   "metadata": {},
   "outputs": [
    {
     "data": {
      "text/html": [
       "<table border=\"1\" class=\"dataframe\">\n",
       "    <thead>\n",
       "        <tr>\n",
       "            <th>Names</th> <th>Apples</th> <th>Oranges</th> <th>Dragonfruits</th>\n",
       "        </tr>\n",
       "    </thead>\n",
       "    <tbody>\n",
       "        <tr>\n",
       "            <td>Ahmed</td> <td>3     </td> <td>1      </td> <td>9           </td>\n",
       "        </tr>\n",
       "        <tr>\n",
       "            <td>Lucy </td> <td>2     </td> <td>3      </td> <td>7           </td>\n",
       "        </tr>\n",
       "        <tr>\n",
       "            <td>Tien </td> <td>5     </td> <td>2      </td> <td>3           </td>\n",
       "        </tr>\n",
       "    </tbody>\n",
       "</table>"
      ],
      "text/plain": [
       "Names | Apples | Oranges | Dragonfruits\n",
       "Ahmed | 3      | 1       | 9\n",
       "Lucy  | 2      | 3       | 7\n",
       "Tien  | 5      | 2       | 3"
      ]
     },
     "execution_count": 3,
     "metadata": {},
     "output_type": "execute_result"
    }
   ],
   "source": [
    "dragonfruits = fruits.sort(\"Dragonfruits\", descending = True)\n",
    "dragonfruits"
   ]
  },
  {
   "cell_type": "code",
   "execution_count": 4,
   "metadata": {},
   "outputs": [
    {
     "data": {
      "text/html": [
       "\n",
       "    \n",
       "    \n",
       "        <p>All tests passed!</p>\n",
       "    \n",
       "    "
      ],
      "text/plain": [
       "\n",
       "    All tests passed!\n",
       "    "
      ]
     },
     "execution_count": 4,
     "metadata": {},
     "output_type": "execute_result"
    }
   ],
   "source": [
    "grader.check(\"q1\")"
   ]
  },
  {
   "cell_type": "markdown",
   "metadata": {},
   "source": [
    "Now let's say that we want a table that contains only the students that have at least 5 dragonfruits. With your newly created `dragonfruits` table, modify the table so that it contains what we want."
   ]
  },
  {
   "cell_type": "code",
   "execution_count": 6,
   "metadata": {},
   "outputs": [
    {
     "data": {
      "text/html": [
       "<table border=\"1\" class=\"dataframe\">\n",
       "    <thead>\n",
       "        <tr>\n",
       "            <th>Names</th> <th>Apples</th> <th>Oranges</th> <th>Dragonfruits</th>\n",
       "        </tr>\n",
       "    </thead>\n",
       "    <tbody>\n",
       "        <tr>\n",
       "            <td>Ahmed</td> <td>3     </td> <td>1      </td> <td>9           </td>\n",
       "        </tr>\n",
       "        <tr>\n",
       "            <td>Lucy </td> <td>2     </td> <td>3      </td> <td>7           </td>\n",
       "        </tr>\n",
       "    </tbody>\n",
       "</table>"
      ],
      "text/plain": [
       "Names | Apples | Oranges | Dragonfruits\n",
       "Ahmed | 3      | 1       | 9\n",
       "Lucy  | 2      | 3       | 7"
      ]
     },
     "execution_count": 6,
     "metadata": {},
     "output_type": "execute_result"
    }
   ],
   "source": [
    "many_dragonfruits = dragonfruits.where(\"Dragonfruits\", are.above(5))\n",
    "many_dragonfruits"
   ]
  },
  {
   "cell_type": "code",
   "execution_count": 7,
   "metadata": {},
   "outputs": [
    {
     "data": {
      "text/html": [
       "\n",
       "    \n",
       "    \n",
       "        <p>All tests passed!</p>\n",
       "    \n",
       "    "
      ],
      "text/plain": [
       "\n",
       "    All tests passed!\n",
       "    "
      ]
     },
     "execution_count": 7,
     "metadata": {},
     "output_type": "execute_result"
    }
   ],
   "source": [
    "grader.check(\"q2\")"
   ]
  },
  {
   "cell_type": "markdown",
   "metadata": {},
   "source": [
    "Finally let's say that we want to convert the number of dragonfruits into the _price_ of the dragonfruits that these students own. In the function `dragonfruit_price`, replace `...` with code that will take the `number` of dragonfruits and `return` the corresponding price. One dragonfruit is worth one dollar (1) and fifty-three (53) cents."
   ]
  },
  {
   "cell_type": "code",
   "execution_count": 8,
   "metadata": {},
   "outputs": [
    {
     "data": {
      "text/plain": [
       "1.53"
      ]
     },
     "execution_count": 8,
     "metadata": {},
     "output_type": "execute_result"
    }
   ],
   "source": [
    "def dragonfruit_price(number):\n",
    "    return 1.53 * number\n",
    "\n",
    "dragonfruit_price(1)"
   ]
  },
  {
   "cell_type": "code",
   "execution_count": 9,
   "metadata": {},
   "outputs": [
    {
     "data": {
      "text/html": [
       "\n",
       "    \n",
       "    \n",
       "        <p>All tests passed!</p>\n",
       "    \n",
       "    "
      ],
      "text/plain": [
       "\n",
       "    All tests passed!\n",
       "    "
      ]
     },
     "execution_count": 9,
     "metadata": {},
     "output_type": "execute_result"
    }
   ],
   "source": [
    "grader.check(\"q3\")"
   ]
  },
  {
   "cell_type": "markdown",
   "metadata": {},
   "source": [
    "Finally let's apply this function to our `many_dragonfruits` table. Create a new column called `Dragonfruit Price` which contains the total price of the dragonfruits that these students own. For example, if a student has 3 dragonfruits, then the dragonfruit price should be 3 * 1.53 = 4.59.\n",
    "\n",
    "_NOTE:_ Feel free to add more lines if you deem it necessary! Not everything needs a one line solution."
   ]
  },
  {
   "cell_type": "code",
   "execution_count": 20,
   "metadata": {},
   "outputs": [
    {
     "data": {
      "text/html": [
       "<table border=\"1\" class=\"dataframe\">\n",
       "    <thead>\n",
       "        <tr>\n",
       "            <th>Names</th> <th>Apples</th> <th>Oranges</th> <th>Dragonfruits</th> <th>Dragonfruit Price</th>\n",
       "        </tr>\n",
       "    </thead>\n",
       "    <tbody>\n",
       "        <tr>\n",
       "            <td>Ahmed</td> <td>3     </td> <td>1      </td> <td>9           </td> <td>13.77            </td>\n",
       "        </tr>\n",
       "        <tr>\n",
       "            <td>Lucy </td> <td>2     </td> <td>3      </td> <td>7           </td> <td>10.71            </td>\n",
       "        </tr>\n",
       "    </tbody>\n",
       "</table>"
      ],
      "text/plain": [
       "Names | Apples | Oranges | Dragonfruits | Dragonfruit Price\n",
       "Ahmed | 3      | 1       | 9            | 13.77\n",
       "Lucy  | 2      | 3       | 7            | 10.71"
      ]
     },
     "execution_count": 20,
     "metadata": {},
     "output_type": "execute_result"
    }
   ],
   "source": [
    "prices = many_dragonfruits.with_column(\n",
    "    \"Dragonfruit Price\", many_dragonfruits.apply(dragonfruit_price, \"Dragonfruits\")\n",
    ")\n",
    "prices"
   ]
  },
  {
   "cell_type": "code",
   "execution_count": null,
   "metadata": {},
   "outputs": [],
   "source": [
    "# Also a valid approach with multiple lines\n",
    "price_array = many_dragonfruits.apply(dragonfruit_price, \"Dragonfruits\")\n",
    "prices = many_dragonfruits.with_column(\n",
    "    \"Dragonfruit Price\", price_array\n",
    ")\n",
    "prices"
   ]
  },
  {
   "cell_type": "code",
   "execution_count": 21,
   "metadata": {},
   "outputs": [
    {
     "data": {
      "text/html": [
       "\n",
       "    \n",
       "    \n",
       "        <p>All tests passed!</p>\n",
       "    \n",
       "    "
      ],
      "text/plain": [
       "\n",
       "    All tests passed!\n",
       "    "
      ]
     },
     "execution_count": 21,
     "metadata": {},
     "output_type": "execute_result"
    }
   ],
   "source": [
    "grader.check(\"q4\")"
   ]
  },
  {
   "cell_type": "markdown",
   "metadata": {},
   "source": [
    "Congratulations on finishing! Run the next cell to make sure that you passed all of the test cases."
   ]
  },
  {
   "cell_type": "code",
   "execution_count": 22,
   "metadata": {},
   "outputs": [
    {
     "data": {
      "text/html": [
       "<p><strong>q1</strong></p>\n",
       "    \n",
       "    \n",
       "        <p>All tests passed!</p>\n",
       "    \n",
       "    "
      ],
      "text/plain": [
       "<IPython.core.display.HTML object>"
      ]
     },
     "metadata": {},
     "output_type": "display_data"
    },
    {
     "data": {
      "text/html": [
       "<p><strong>q2</strong></p>\n",
       "    \n",
       "    \n",
       "        <p>All tests passed!</p>\n",
       "    \n",
       "    "
      ],
      "text/plain": [
       "<IPython.core.display.HTML object>"
      ]
     },
     "metadata": {},
     "output_type": "display_data"
    },
    {
     "data": {
      "text/html": [
       "<p><strong>q3</strong></p>\n",
       "    \n",
       "    \n",
       "        <p>All tests passed!</p>\n",
       "    \n",
       "    "
      ],
      "text/plain": [
       "<IPython.core.display.HTML object>"
      ]
     },
     "metadata": {},
     "output_type": "display_data"
    },
    {
     "data": {
      "text/html": [
       "<p><strong>q4</strong></p>\n",
       "    \n",
       "    \n",
       "        <p>All tests passed!</p>\n",
       "    \n",
       "    "
      ],
      "text/plain": [
       "<IPython.core.display.HTML object>"
      ]
     },
     "metadata": {},
     "output_type": "display_data"
    }
   ],
   "source": [
    "grader.check_all()"
   ]
  },
  {
   "cell_type": "code",
   "execution_count": null,
   "metadata": {},
   "outputs": [],
   "source": []
  }
 ],
 "metadata": {
  "kernelspec": {
   "display_name": "Python 3",
   "language": "python",
   "name": "python3"
  },
  "language_info": {
   "codemirror_mode": {
    "name": "ipython",
    "version": 3
   },
   "file_extension": ".py",
   "mimetype": "text/x-python",
   "name": "python",
   "nbconvert_exporter": "python",
   "pygments_lexer": "ipython3",
   "version": "3.7.4"
  }
 },
 "nbformat": 4,
 "nbformat_minor": 2
}
